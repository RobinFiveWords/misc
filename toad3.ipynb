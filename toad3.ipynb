{
 "cells": [
  {
   "cell_type": "markdown",
   "id": "7a4c8361-a8e0-4afa-96cc-24805633c386",
   "metadata": {},
   "source": [
    "<div align=\"center\">\n",
    "  <img src=\"https://www.cs.cmu.edu/puzzle/images/toadbanner.gif\" alt=\"The Puzzle TOAD banner\" />\n",
    "</div>\n",
    "\n",
    "[Puzzle 3: Take the last chip](https://www.cs.cmu.edu/puzzle/puzzle3.html)"
   ]
  },
  {
   "cell_type": "code",
   "execution_count": 1,
   "id": "4daa3ec7-3fc9-4e71-931e-6977c1692d17",
   "metadata": {},
   "outputs": [],
   "source": [
    "import collections"
   ]
  },
  {
   "cell_type": "code",
   "execution_count": 2,
   "id": "ab79d4f0-0dd8-4786-962b-e85ba64df0e0",
   "metadata": {},
   "outputs": [],
   "source": [
    "class Game:\n",
    "    def __init__(self, multiple=1):\n",
    "        self.multiple = multiple\n",
    "        self.visited = collections.defaultdict(set)\n",
    "        self.remaining = None\n",
    "        self.last = None\n",
    "\n",
    "    def check(self):\n",
    "        current = (self.remaining, self.last)\n",
    "        for new_last in range(1, min(self.remaining, self.multiple * self.last) + 1):\n",
    "            new_remaining = self.remaining - new_last\n",
    "            if new_remaining == 0:  # player takes all\n",
    "                self.visited[current].add(new_last)\n",
    "                continue\n",
    "            new = (new_remaining, new_last)\n",
    "            if new_remaining <= new_last * self.multiple:  # opponent will take all\n",
    "                continue\n",
    "            if not self.visited[new]:  # opponent won't have path to win\n",
    "                self.visited[current].add(new_last)\n",
    "        if self.last > 1:\n",
    "            self.last -= 1\n",
    "        else:\n",
    "            self.remaining += 1\n",
    "            self.last = self.remaining\n",
    "\n",
    "    def run(self, stop):\n",
    "        self.remaining = 1\n",
    "        self.last = 1\n",
    "        while self.remaining < stop:\n",
    "            self.check()\n",
    "            \n",
    "    def get_visited(self):\n",
    "        return sorted((k, v) for k, v in self.visited.items() if v)\n",
    "\n",
    "    def losers(self):\n",
    "        results = []\n",
    "        for (remaining, last), new_lasts in self.visited.items():\n",
    "            if remaining == last and len(new_lasts) == 1:\n",
    "                results.append(remaining)\n",
    "        return results"
   ]
  },
  {
   "cell_type": "code",
   "execution_count": 3,
   "id": "4a499be6-42c7-496c-96c9-66a5081ec0ac",
   "metadata": {},
   "outputs": [
    {
     "data": {
      "text/plain": [
       "[1, 2, 4, 8, 16, 32]"
      ]
     },
     "execution_count": 3,
     "metadata": {},
     "output_type": "execute_result"
    }
   ],
   "source": [
    "g1 = Game()\n",
    "g1.run(35)\n",
    "g1.losers()"
   ]
  },
  {
   "cell_type": "markdown",
   "id": "fa28e2a1-bb2d-4b45-8b67-abf4176f2615",
   "metadata": {},
   "source": [
    "Strategy for part 1: Leave the closest power of 2. If starting value is a power of 2, you're out of luck."
   ]
  },
  {
   "cell_type": "code",
   "execution_count": 4,
   "id": "9aa5ba19-7f48-47f0-9b5f-0901d9465471",
   "metadata": {},
   "outputs": [
    {
     "data": {
      "text/plain": [
       "[1, 2, 3, 5, 8, 13, 21, 34]"
      ]
     },
     "execution_count": 4,
     "metadata": {},
     "output_type": "execute_result"
    }
   ],
   "source": [
    "g2 = Game(2)\n",
    "g2.run(35)\n",
    "g2.losers()"
   ]
  },
  {
   "cell_type": "markdown",
   "id": "0bc6a13d-26f5-47cd-9c5a-ff917243033d",
   "metadata": {},
   "source": [
    "Strategy for part 2: Leave the closest Fibonacci number. If starting value is a Fibonacci number, you're out of luck."
   ]
  },
  {
   "cell_type": "code",
   "execution_count": 5,
   "id": "f6ba73df-e6ee-4f06-adc4-bd1494858edb",
   "metadata": {},
   "outputs": [
    {
     "data": {
      "text/plain": [
       "[1, 2, 3, 4, 6, 8, 11, 15, 21, 29, 40, 55, 76]"
      ]
     },
     "execution_count": 5,
     "metadata": {},
     "output_type": "execute_result"
    }
   ],
   "source": [
    "g3 = Game(3)\n",
    "g3.run(100)\n",
    "g3.losers()"
   ]
  },
  {
   "cell_type": "markdown",
   "id": "3be35c50-41dc-4b33-b0d4-86fd0f3cd74d",
   "metadata": {},
   "source": [
    "3: [A003411](https://oeis.org/A003411)"
   ]
  },
  {
   "cell_type": "code",
   "execution_count": 6,
   "id": "fb1c3803-321b-45d3-8243-83c5c332f240",
   "metadata": {},
   "outputs": [
    {
     "data": {
      "text/plain": [
       "[1, 2, 3, 4, 5, 7, 9, 12, 15, 19, 24, 31, 40, 52, 67, 86]"
      ]
     },
     "execution_count": 6,
     "metadata": {},
     "output_type": "execute_result"
    }
   ],
   "source": [
    "g4 = Game(4)\n",
    "g4.run(100)\n",
    "g4.losers()"
   ]
  },
  {
   "cell_type": "markdown",
   "id": "2fa6dcae-cafb-4331-98ee-b6d2cb2fef92",
   "metadata": {},
   "source": [
    "4: [A003413](https://oeis.org/A003413)"
   ]
  },
  {
   "cell_type": "code",
   "execution_count": null,
   "id": "2bfbf509-9140-483e-a58a-187bc9bb5355",
   "metadata": {},
   "outputs": [],
   "source": []
  }
 ],
 "metadata": {
  "kernelspec": {
   "display_name": "Python 3 (ipykernel)",
   "language": "python",
   "name": "python3"
  },
  "language_info": {
   "codemirror_mode": {
    "name": "ipython",
    "version": 3
   },
   "file_extension": ".py",
   "mimetype": "text/x-python",
   "name": "python",
   "nbconvert_exporter": "python",
   "pygments_lexer": "ipython3",
   "version": "3.11.5"
  }
 },
 "nbformat": 4,
 "nbformat_minor": 5
}
